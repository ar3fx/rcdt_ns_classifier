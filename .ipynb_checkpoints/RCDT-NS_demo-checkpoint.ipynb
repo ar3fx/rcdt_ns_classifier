{
 "cells": [
  {
   "cell_type": "markdown",
   "metadata": {},
   "source": [
    "## Radon-Cumulative Distribution Transform Nearest Subspace (RCDT-NS) Classifier\n",
    "\n",
    "This demo code will demonstrate how to use the RCDT-NS classifier from the *PyTransKit* package."
   ]
  },
  {
   "cell_type": "markdown",
   "metadata": {},
   "source": [
    "To use the classifer, users need to install 'pytranskit' package using \n",
    "'pip install pytranskit'. \n",
    "This package can also be cloned/downloaded from github link \n",
    "'https://github.com/rohdelab/PyTransKit.git', in that case users need to\n",
    "specify the directory to 'pytranskit' using sys.path.append(/path/to/pytranskit)\n",
    "in the codes."
   ]
  },
  {
   "cell_type": "markdown",
   "metadata": {},
   "source": [
    "## Steps:\n",
    "The following example will demonstrate how to:\n",
    "* create and initialize an instance of the class RCDT_NS\n",
    "* train the model with training images\n",
    "* apply the model to predict calss labels of the test images\n",
    "In this example we have used MNIST dataset stored in the *data* folder"
   ]
  },
  {
   "cell_type": "markdown",
   "metadata": {},
   "source": [
    "### Import some python libraries"
   ]
  },
  {
   "cell_type": "code",
   "execution_count": 1,
   "metadata": {},
   "outputs": [],
   "source": [
    "import numpy as np\n",
    "from sklearn.metrics import accuracy_score\n",
    "from pathlib import Path\n",
    "import sys\n",
    "sys.path.append('../')\n",
    "from pytranskit.classification.utils import *\n",
    "\n",
    "use_gpu = False"
   ]
  },
  {
   "cell_type": "markdown",
   "metadata": {},
   "source": [
    "### Import RCDT-NS class from *PyTransKit* package"
   ]
  },
  {
   "cell_type": "code",
   "execution_count": 2,
   "metadata": {},
   "outputs": [],
   "source": [
    "from pytranskit.classification.rcdt_ns import RCDT_NS"
   ]
  },
  {
   "cell_type": "markdown",
   "metadata": {},
   "source": [
    "### Load dataset\n",
    "For loading data we have used *load_data* function from the *pytranskit/classifier/utils.py* script. It takes name and directory of the dataset, and total number of classes as input. Returns both train and test images in two separate 3d arrays of shape (n_samples, n_rows, n_columns), and corresponding class labels. User can use there own implementation to load data, just need to make sure that the output arrays are consistent."
   ]
  },
  {
   "cell_type": "code",
   "execution_count": 3,
   "metadata": {},
   "outputs": [
    {
     "name": "stdout",
     "output_type": "stream",
     "text": [
      "loading data from mat files\n",
      "x_train.shape (60000, 28, 28) x_test.shape (10000, 28, 28)\n",
      "saved to ./data/MNIST/dataset.hdf5\n"
     ]
    }
   ],
   "source": [
    "datadir = './data'\n",
    "dataset = 'MNIST'\n",
    "num_classes = 10          # total number of classes in the dataset\n",
    "(x_train, y_train), (x_test, y_test) = load_data(dataset, num_classes, datadir)  # load_data function from utils.py"
   ]
  },
  {
   "cell_type": "markdown",
   "metadata": {},
   "source": [
    "In this example we have used 512 randomly chosen samples per class to train the model. We have used another function *take_train_samples* function from *utils.py* script for this. User can use their own script."
   ]
  },
  {
   "cell_type": "code",
   "execution_count": 4,
   "metadata": {},
   "outputs": [],
   "source": [
    "n_samples_perclass = 512  # total number of training samples per class used in this example\n",
    "x_train_sub, y_train_sub = take_train_samples(x_train, y_train, n_samples_perclass, \n",
    "                                              num_classes, repeat=0) # function from utils.py"
   ]
  },
  {
   "cell_type": "markdown",
   "metadata": {},
   "source": [
    "### Create an instance of RCDT_NS class\n",
    "Create an instance of the RCDT_NS class. Users need to specify total number of class and directions (optional) in degrees of the Radon projections."
   ]
  },
  {
   "cell_type": "code",
   "execution_count": 5,
   "metadata": {},
   "outputs": [],
   "source": [
    "theta = np.linspace(0, 176, 45)    # choose the angles in degrees that will be used to calculate Radon projections\n",
    "rcdt_ns_obj = RCDT_NS(num_classes, theta, rm_edge=True)"
   ]
  },
  {
   "cell_type": "markdown",
   "metadata": {},
   "source": [
    "### Training phase\n",
    "This function takes the train samples and labels as input, and stores the basis vectors for corresponding classes in a *private* variable. This variable will be used in the *predict* function in the test phase"
   ]
  },
  {
   "cell_type": "code",
   "execution_count": 6,
   "metadata": {},
   "outputs": [
    {
     "name": "stdout",
     "output_type": "stream",
     "text": [
      "\n",
      "Calculating RCDTs for training images ...\n",
      "Generating basis vectors for each class ...\n"
     ]
    }
   ],
   "source": [
    "rcdt_ns_obj.fit(x_train_sub, y_train_sub)"
   ]
  },
  {
   "cell_type": "markdown",
   "metadata": {},
   "source": [
    "### Testing phase\n",
    "*predict* function takes the train samples as input and returns the predicted class labels"
   ]
  },
  {
   "cell_type": "code",
   "execution_count": 7,
   "metadata": {},
   "outputs": [
    {
     "name": "stdout",
     "output_type": "stream",
     "text": [
      "\n",
      "Calculating RCDTs for testing images ...\n",
      "Finding nearest subspace for each test sample ...\n"
     ]
    }
   ],
   "source": [
    "preds = rcdt_ns_obj.predict(x_test, use_gpu)"
   ]
  },
  {
   "cell_type": "code",
   "execution_count": 8,
   "metadata": {},
   "outputs": [
    {
     "name": "stdout",
     "output_type": "stream",
     "text": [
      "\n",
      "Test accuracy: 95.41%\n"
     ]
    }
   ],
   "source": [
    "print('\\nTest accuracy: {}%'.format(100*accuracy_score(y_test, preds)))"
   ]
  },
  {
   "cell_type": "code",
   "execution_count": null,
   "metadata": {},
   "outputs": [],
   "source": []
  }
 ],
 "metadata": {
  "kernelspec": {
   "display_name": "Python 3",
   "language": "python",
   "name": "python3"
  },
  "language_info": {
   "codemirror_mode": {
    "name": "ipython",
    "version": 3
   },
   "file_extension": ".py",
   "mimetype": "text/x-python",
   "name": "python",
   "nbconvert_exporter": "python",
   "pygments_lexer": "ipython3",
   "version": "3.7.4"
  }
 },
 "nbformat": 4,
 "nbformat_minor": 2
}
