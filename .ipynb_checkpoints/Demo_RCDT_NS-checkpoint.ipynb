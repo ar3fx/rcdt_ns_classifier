{
 "cells": [
  {
   "cell_type": "markdown",
   "metadata": {},
   "source": [
    "## Radon-Cumulative Distribution Transform Nearest Subspace (RCDT-NS) Classifier\n",
    "\n",
    "This demo code will demonstrate how to use the RCDT-NS classifier from the *PyTransKit* package."
   ]
  },
  {
   "cell_type": "markdown",
   "metadata": {},
   "source": [
    "To use the classifer, users need to install 'pytranskit' package using \n",
    "'pip install pytranskit'. \n",
    "This package can also be cloned/downloaded from github link \n",
    "'https://github.com/rohdelab/PyTransKit.git', in that case users need to\n",
    "specify the directory to 'pytranskit' using sys.path.append(/path/to/pytranskit)\n",
    "in the codes."
   ]
  },
  {
   "cell_type": "markdown",
   "metadata": {},
   "source": [
    "## Steps:\n",
    "The following example will demonstrate how to:\n",
    "* create and initialize an instance of the class RCDT_NS\n",
    "* train the model with training images\n",
    "* apply the model to predict calss labels of the test images\n",
    "In this example we have used MNIST dataset stored in the *data* folder"
   ]
  },
  {
   "cell_type": "markdown",
   "metadata": {},
   "source": [
    "## Preliminaries\n",
    "### 1. Import necessary python libraries"
   ]
  },
  {
   "cell_type": "code",
   "execution_count": 1,
   "metadata": {},
   "outputs": [],
   "source": [
    "import numpy as np\n",
    "from sklearn.metrics import accuracy_score\n",
    "from pathlib import Path\n",
    "import sys\n",
    "sys.path.append('../')\n",
    "from pytranskit.classification.utils import *\n",
    "\n",
    "use_gpu = False"
   ]
  },
  {
   "cell_type": "markdown",
   "metadata": {},
   "source": [
    "### 2. Import RCDT-NS class from *PyTransKit* package"
   ]
  },
  {
   "cell_type": "code",
   "execution_count": 2,
   "metadata": {},
   "outputs": [],
   "source": [
    "from pytranskit.classification.rcdt_ns import RCDT_NS"
   ]
  },
  {
   "cell_type": "markdown",
   "metadata": {},
   "source": [
    "### 3. Load dataset\n",
    "For loading data we have used *load_data* function from the *pytranskit/classifier/utils.py* script. It takes name and directory of the dataset, and total number of classes as input. Returns both train and test images in two separate 3d arrays of shape (n_samples, n_rows, n_columns), and corresponding class labels. User can use there own implementation to load data, just need to make sure that the output arrays are consistent."
   ]
  },
  {
   "cell_type": "code",
   "execution_count": 3,
   "metadata": {},
   "outputs": [
    {
     "name": "stdout",
     "output_type": "stream",
     "text": [
      "loading data from mat files\n",
      "x_train.shape (60000, 28, 28) x_test.shape (10000, 28, 28)\n",
      "saved to ./data/MNIST/dataset.hdf5\n"
     ]
    }
   ],
   "source": [
    "# Load dataset\n",
    "\n",
    "datadir = './data'\n",
    "dataset = 'MNIST'\n",
    "num_classes = 10          # total number of classes in the dataset\n",
    "(x_train, y_train), (x_test, y_test) = load_data(dataset, num_classes, datadir)  # load_data function from utils.py"
   ]
  },
  {
   "cell_type": "markdown",
   "metadata": {},
   "source": [
    "In this example we have used 512 randomly chosen samples per class to train the model. We have used another function *take_train_samples* function from *utils.py* script for this. User can use their own script."
   ]
  },
  {
   "cell_type": "code",
   "execution_count": 4,
   "metadata": {},
   "outputs": [],
   "source": [
    "# Choose a subset of training and test sets (optional)\n",
    "\n",
    "n_samples_perclass = 512  # total number of training samples per class used in this example\n",
    "x_train_sub, y_train_sub = take_train_samples(x_train, y_train, n_samples_perclass, \n",
    "                                              num_classes, repeat=0) # function from utils.py"
   ]
  },
  {
   "cell_type": "markdown",
   "metadata": {},
   "source": [
    "## Classification pipeline \n",
    "### 1. Create an instance of RCDT_NS class\n",
    "Now that we have training and testing sets at hand, we are ready to train and test the classifier. The first step is to create an instance of the RCDT_NS class. Users need to specify total number of classs (num_classes) and directions (optional) in degrees (theta) of the Radon projections."
   ]
  },
  {
   "cell_type": "code",
   "execution_count": 5,
   "metadata": {},
   "outputs": [],
   "source": [
    "# Create an instance of RCDT_NS class\n",
    "\n",
    "theta = np.linspace(0, 176, 45)    # choose the angles in degrees that will be used to calculate Radon projections\n",
    "rcdt_ns_obj = RCDT_NS(num_classes, theta, rm_edge=True)"
   ]
  },
  {
   "cell_type": "markdown",
   "metadata": {},
   "source": [
    "### 2. Training phase\n",
    "\n",
    "Let us assume, $\\{s_1^{(k)}, s_2^{(k)}, \\cdots \\}, k=1,2,\\cdots,N_{class},$ denotes a set of training images where $(k)$ denotes the class label.\n",
    "\n",
    "The training algorithm includes the following steps: for each class $k$\n",
    "\n",
    "1. Transform training samples using R-CDT to obtain $\\left\\{ \\widehat{s}_1^{(k)}, \\widehat{s}_2^{(k)}, \\cdots  \\right \\}$ \n",
    "\n",
    "2. Orthogonalize $\\left\\{ \\widehat{s}_1^{(k)}, \\widehat{s}_2^{(k)}, \\cdots  \\right \\}\\cup\\mathbb{U}_T$ to obtain the set of basis vectors $\\left\\{b_1^{(k)},b_2^{(k)},\\cdots\\right\\}$. Here, $\\mathbb{U}_T=\\{u_1(t,\\theta),u_2(t,\\theta)\\}$, with $u_1(t,\\theta)=\\cos\\theta$ and $u_2(t,\\theta)=\\sin\\theta$.\n",
    "\n",
    "3. Use the output of orthogonalization procedure matrix $B^{(k)}$ that contains the basis vectors in its columns as follows:\n",
    "\\begin{equation}\n",
    "    B^{(k)} = \\begin{bmatrix}b^{(k)}_1, b^{(k)}_2, \\cdots \\end{bmatrix}\\notag\n",
    "\\end{equation}\n",
    "\n",
    "\n",
    "This function takes the train samples and labels as input, and stores the basis vectors for corresponding classes in a *private* variable. This variable will be used in the *predict* function in the test phase"
   ]
  },
  {
   "cell_type": "code",
   "execution_count": 6,
   "metadata": {},
   "outputs": [
    {
     "name": "stdout",
     "output_type": "stream",
     "text": [
      "\n",
      "Calculating RCDTs for training images ...\n",
      "Generating basis vectors for each class ...\n"
     ]
    }
   ],
   "source": [
    "# Training phase\n",
    "\n",
    "rcdt_ns_obj.fit(x_train_sub, y_train_sub)"
   ]
  },
  {
   "cell_type": "markdown",
   "metadata": {},
   "source": [
    "### 3. Testing phase\n",
    "\n",
    "Let us consider a testing image $s$ whose class is to be predicted by the classification model described above. As a first step, we apply R-CDT on $s$ to obtain the transform space representation $\\widehat{s}$. The class of $\\widehat{s}$ is then estimated to be\n",
    "\\begin{equation}\n",
    "    \\arg \\min_k \\| \\widehat{s} - A^{(k)} \\widehat{s} \\|^2.\\nonumber\n",
    "\\end{equation}\n",
    "where, $A^{(k)}=B^{(k)}{B^{(k)}}^T$.\n",
    "\n",
    "The *predict* function in the following takes the train samples as input and returns the predicted class labels"
   ]
  },
  {
   "cell_type": "code",
   "execution_count": 7,
   "metadata": {},
   "outputs": [
    {
     "name": "stdout",
     "output_type": "stream",
     "text": [
      "\n",
      "Calculating RCDTs for testing images ...\n",
      "Finding nearest subspace for each test sample ...\n"
     ]
    }
   ],
   "source": [
    "# Testing phase\n",
    "\n",
    "preds = rcdt_ns_obj.predict(x_test, use_gpu)"
   ]
  },
  {
   "cell_type": "markdown",
   "metadata": {},
   "source": [
    "### 4. Display performance metrics\n",
    "Test accuracy can be calculated and displayed as follows:"
   ]
  },
  {
   "cell_type": "code",
   "execution_count": 8,
   "metadata": {},
   "outputs": [
    {
     "name": "stdout",
     "output_type": "stream",
     "text": [
      "\n",
      "Test accuracy: 95.41%\n"
     ]
    }
   ],
   "source": [
    "# Print test accuracy\n",
    "\n",
    "print('\\nTest accuracy: {}%'.format(100*accuracy_score(y_test, preds)))"
   ]
  }
 ],
 "metadata": {
  "kernelspec": {
   "display_name": "Python 3",
   "language": "python",
   "name": "python3"
  },
  "language_info": {
   "codemirror_mode": {
    "name": "ipython",
    "version": 3
   },
   "file_extension": ".py",
   "mimetype": "text/x-python",
   "name": "python",
   "nbconvert_exporter": "python",
   "pygments_lexer": "ipython3",
   "version": "3.7.4"
  }
 },
 "nbformat": 4,
 "nbformat_minor": 2
}
